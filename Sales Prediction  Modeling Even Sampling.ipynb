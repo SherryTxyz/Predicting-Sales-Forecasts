{
 "cells": [
  {
   "cell_type": "code",
   "execution_count": null,
   "id": "38a43d77",
   "metadata": {},
   "outputs": [],
   "source": [
    "# import tools for project\n",
    "import pandas as pd\n",
    "import numpy as np\n",
    "import os\n",
    "import pickle\n",
    "import time\n",
    "import matplotlib.pyplot as plt\n",
    "import seaborn as sns\n",
    "from sklearn import __version__ as sklearn_version\n",
    "from sklearn.decomposition import PCA\n",
    "from sklearn.preprocessing import scale\n",
    "from sklearn.model_selection import train_test_split, cross_validate, GridSearchCV, learning_curve\n",
    "from sklearn.preprocessing import StandardScaler, MinMaxScaler\n",
    "from sklearn.dummy import DummyRegressor\n",
    "from sklearn.linear_model import LinearRegression\n",
    "from sklearn.linear_model import LogisticRegression\n",
    "from sklearn import svm\n",
    "from sklearn.ensemble import RandomForestRegressor\n",
    "from sklearn.ensemble import RandomForestClassifier, AdaBoostClassifier, GradientBoostingClassifier\n",
    "from sklearn import metrics\n",
    "from sklearn.inspection import permutation_importance\n",
    "from sklearn.metrics import r2_score, mean_squared_error, mean_absolute_error\n",
    "from sklearn.pipeline import make_pipeline\n",
    "from sklearn.impute import SimpleImputer\n",
    "from sklearn import preprocessing\n",
    "from sklearn.feature_selection import SelectKBest, f_regression\n",
    "import scipy.stats as ss\n",
    "from scipy.stats import chi2\n",
    "from sklearn.preprocessing import OrdinalEncoder\n",
    "from sklearn.preprocessing import LabelEncoder\n",
    "from matplotlib.ticker import ScalarFormatter\n",
    "import datetime\n",
    "import shap\n",
    "import itertools\n",
    "from scipy.stats import chi2_contingency\n",
    "from sklearn.metrics import f1_score, classification_report, roc_curve\n",
    "from sklearn.metrics import precision_recall_fscore_support as score\n",
    "from sklearn import tree\n",
    "from scipy import stats\n",
    "import lightgbm\n",
    "from bayes_opt import BayesianOptimization\n",
    "from catboost import CatBoostClassifier, cv, Pool\n",
    "import scikitplot as skplt\n",
    "from imblearn.ensemble import BalancedRandomForestClassifier\n",
    "from sklearn import metrics"
   ]
  },
  {
   "cell_type": "markdown",
   "id": "118f6b94",
   "metadata": {},
   "source": [
    "#### Import Data for Modeling - REDACTED"
   ]
  },
  {
   "cell_type": "code",
   "execution_count": null,
   "id": "de096552",
   "metadata": {},
   "outputs": [],
   "source": [
    "forecast_value = mis_data.groupby([mis_data['SuccessfulSale'],mis_data['Close Date'].dt.year.rename('year')])['Amount'].sum() \n",
    "forecast_value = pd.DataFrame(forecast_value, columns=(['Amount']))\n",
    "forecast_value['Amount'] = forecast_value['Amount'].apply(lambda x: \"${:.1f}m\".format((x/1000000)))\n",
    "forecast_value = forecast_value.style.set_table_styles([{'style': 'display_inline', 'selector' : '',\n",
    "                            'props' : [('border',\n",
    "                                        '10px solid gray')]}])\n",
    "forecast_value"
   ]
  },
  {
   "cell_type": "code",
   "execution_count": null,
   "id": "d364c485",
   "metadata": {},
   "outputs": [],
   "source": [
    "mis_data['SuccessfulSale'].value_counts()"
   ]
  },
  {
   "cell_type": "code",
   "execution_count": null,
   "id": "85f59e39",
   "metadata": {},
   "outputs": [],
   "source": [
    "mis_data.head(20)"
   ]
  },
  {
   "cell_type": "markdown",
   "id": "7b69b52c",
   "metadata": {},
   "source": [
    "#### Create Sample of Data with Equal Representation of Both Classes"
   ]
  },
  {
   "cell_type": "code",
   "execution_count": null,
   "id": "0a830b2e",
   "metadata": {},
   "outputs": [],
   "source": [
    "mis_data_sample = mis_data.groupby('SuccessfulSale', group_keys=False).apply(lambda g: g.sample(10000, replace=True))\n",
    "mis_data_sample['SuccessfulSale'].value_counts()"
   ]
  },
  {
   "cell_type": "code",
   "execution_count": null,
   "id": "206361db",
   "metadata": {},
   "outputs": [],
   "source": [
    "mis_data_sample['100days'].value_counts()"
   ]
  },
  {
   "cell_type": "code",
   "execution_count": null,
   "id": "f7df1096",
   "metadata": {},
   "outputs": [],
   "source": [
    "X = pd.get_dummies(mis_data_sample.drop(['Account ID',\n",
    "       'Opportunity Name', 'Opportunity ID',\n",
    "       'Actual Invoice Date', 'SuccessfulSale',\n",
    "       'Amount Currency', 'Close Date', 'Amount',\n",
    "       'Stage', 'Created Date',\n",
    "       'Resource Record ID', 'Owner Role', 'Last Invoice Date', 'Total_Opptys',\n",
    "       'Total_Billed', 'AE_Opptys', 'AE_Billed', 'age_bin', 'perc_bill_bin', 'perc_AE_bill_bin'], axis=1),drop_first=True)\n",
    "y = mis_data_sample['SuccessfulSale']\n",
    "\n",
    "\n",
    "X_train, X_test, y_train, y_test = train_test_split(X, y, test_size = 0.30, random_state = 123)"
   ]
  },
  {
   "cell_type": "markdown",
   "id": "475fb514",
   "metadata": {},
   "source": [
    "#### Random Forest"
   ]
  },
  {
   "cell_type": "code",
   "execution_count": null,
   "id": "964bb0de",
   "metadata": {},
   "outputs": [],
   "source": [
    "rf = RandomForestClassifier( min_samples_leaf=50,\n",
    "                      n_estimators=150,\n",
    "                      bootstrap=True,\n",
    "                      oob_score=True,\n",
    "                      n_jobs=-1,\n",
    "                      random_state=123,\n",
    "                      max_features='auto')\n",
    "y_pred = rf.fit(X_train, y_train).predict(X_test)"
   ]
  },
  {
   "cell_type": "code",
   "execution_count": null,
   "id": "3ffc00f4",
   "metadata": {},
   "outputs": [],
   "source": [
    "print('Classification Report for Random Forest:')\n",
    "print(classification_report(y_test, y_pred))"
   ]
  },
  {
   "cell_type": "code",
   "execution_count": null,
   "id": "95fb88a1",
   "metadata": {},
   "outputs": [],
   "source": [
    "train_probs = rf.predict_proba(X_train)[:,1] \n",
    "probs = rf.predict_proba(X_test)[:, 1]\n",
    "train_predictions = rf.predict(X_train)"
   ]
  },
  {
   "cell_type": "code",
   "execution_count": null,
   "id": "5156e846",
   "metadata": {},
   "outputs": [],
   "source": [
    "from sklearn.metrics import accuracy_score, confusion_matrix, precision_score, recall_score, roc_auc_score, roc_curve, f1_score\n",
    "\n",
    "print(f'Train ROC AUC Score: {roc_auc_score(y_train, train_probs)}')\n",
    "print(f'Test ROC AUC  Score: {roc_auc_score(y_test, probs)}')\n"
   ]
  },
  {
   "cell_type": "code",
   "execution_count": null,
   "id": "2f315009",
   "metadata": {},
   "outputs": [],
   "source": [
    "y_pred_proba = rf.predict_proba(X_test)[::,1]\n",
    "fpr, tpr, _ = metrics.roc_curve(y_test, y_pred_proba)\n",
    "auc = metrics.roc_auc_score(y_test, y_pred_proba)\n",
    "plt.plot(fpr,tpr,label=\"data 1, auc=\"+str(auc))\n",
    "plt.legend(loc=4)\n",
    "plt.xlabel('False Positive Rate')\n",
    "plt.ylabel('True Positive Rate')\n",
    "plt.title('Receiver Operating Characteristic (ROC) Curve')\n",
    "plt.show()"
   ]
  },
  {
   "cell_type": "markdown",
   "id": "b2c98216",
   "metadata": {},
   "source": [
    "#### Logistic Regression"
   ]
  },
  {
   "cell_type": "code",
   "execution_count": null,
   "id": "4bf213d4",
   "metadata": {},
   "outputs": [],
   "source": [
    "lr = LogisticRegression(max_iter=1000)\n",
    "pipe = make_pipeline(StandardScaler(), lr)\n",
    "lr_probas = pipe.fit(X_train, y_train).predict_proba(X_test)\n",
    "y_pred = pipe.fit(X_train, y_train).predict(X_test)"
   ]
  },
  {
   "cell_type": "code",
   "execution_count": null,
   "id": "2b0f8768",
   "metadata": {},
   "outputs": [],
   "source": [
    "print('Classification Report for Logistic Regression:')\n",
    "print(classification_report(y_test, y_pred))"
   ]
  },
  {
   "cell_type": "code",
   "execution_count": null,
   "id": "c35a8dbb",
   "metadata": {},
   "outputs": [],
   "source": [
    "y_pred_proba = pipe.predict_proba(X_test)[::,1]\n",
    "fpr, tpr, _ = metrics.roc_curve(y_test, y_pred_proba)\n",
    "auc = metrics.roc_auc_score(y_test, y_pred_proba)\n",
    "plt.plot(fpr,tpr,label=\"data 1, auc=\"+str(auc))\n",
    "plt.legend(loc=4)\n",
    "plt.xlabel('False Positive Rate')\n",
    "plt.ylabel('True Positive Rate')\n",
    "plt.title('Receiver Operating Characteristic (ROC) Curve')\n",
    "plt.show()"
   ]
  },
  {
   "cell_type": "code",
   "execution_count": null,
   "id": "64625064",
   "metadata": {},
   "outputs": [],
   "source": [
    "train_probs = pipe.predict_proba(X_train)[:,1] \n",
    "probs = pipe.predict_proba(X_test)[:, 1]\n",
    "print(f'Train ROC AUC Score: {roc_auc_score(y_train, train_probs)}')\n",
    "print(f'Test ROC AUC  Score: {roc_auc_score(y_test, probs)}')"
   ]
  },
  {
   "cell_type": "markdown",
   "id": "8da06653",
   "metadata": {},
   "source": [
    "#### Ada Boost"
   ]
  },
  {
   "cell_type": "code",
   "execution_count": null,
   "id": "48b94c5c",
   "metadata": {},
   "outputs": [],
   "source": [
    "ab = AdaBoostClassifier(n_estimators=100)\n",
    "ab_probas = ab.fit(X_train, y_train).predict_proba(X_test)\n",
    "y_pred = ab.fit(X_train, y_train).predict(X_test)"
   ]
  },
  {
   "cell_type": "code",
   "execution_count": null,
   "id": "54a85d07",
   "metadata": {},
   "outputs": [],
   "source": [
    "print('Classification Report for Ada Boost:')\n",
    "print(classification_report(y_test, y_pred))"
   ]
  },
  {
   "cell_type": "code",
   "execution_count": null,
   "id": "2cdb80be",
   "metadata": {},
   "outputs": [],
   "source": [
    "y_pred_proba = ab.predict_proba(X_test)[::,1]\n",
    "fpr, tpr, _ = metrics.roc_curve(y_test, y_pred_proba)\n",
    "auc = metrics.roc_auc_score(y_test, y_pred_proba)\n",
    "plt.plot(fpr,tpr,label=\"data 1, auc=\"+str(auc))\n",
    "plt.legend(loc=4)\n",
    "plt.xlabel('False Positive Rate')\n",
    "plt.ylabel('True Positive Rate')\n",
    "plt.title('Receiver Operating Characteristic (ROC) Curve')\n",
    "plt.show()"
   ]
  },
  {
   "cell_type": "code",
   "execution_count": null,
   "id": "68a16646",
   "metadata": {},
   "outputs": [],
   "source": [
    "train_probs = ab.predict_proba(X_train)[:,1] \n",
    "probs = ab.predict_proba(X_test)[:, 1]\n",
    "print(f'Train ROC AUC Score: {roc_auc_score(y_train, train_probs)}')\n",
    "print(f'Test ROC AUC  Score: {roc_auc_score(y_test, probs)}')"
   ]
  },
  {
   "cell_type": "markdown",
   "id": "03eaa290",
   "metadata": {},
   "source": [
    "#### Gradient Boosting"
   ]
  },
  {
   "cell_type": "code",
   "execution_count": null,
   "id": "7fe50096",
   "metadata": {},
   "outputs": [],
   "source": [
    "gb = GradientBoostingClassifier(n_estimators=200)\n",
    "gb_probas = gb.fit(X_train, y_train).predict_proba(X_test)\n",
    "y_pred = gb.fit(X_train, y_train).predict(X_test)"
   ]
  },
  {
   "cell_type": "code",
   "execution_count": null,
   "id": "dd8f3d3d",
   "metadata": {},
   "outputs": [],
   "source": [
    "y_pred_proba = gb.predict_proba(X_test)[::,1]\n",
    "fpr, tpr, _ = metrics.roc_curve(y_test, y_pred_proba)\n",
    "auc = metrics.roc_auc_score(y_test, y_pred_proba)\n",
    "plt.plot(fpr,tpr,label=\"data 1, auc=\"+str(auc))\n",
    "plt.legend(loc=4)\n",
    "plt.xlabel('False Positive Rate')\n",
    "plt.ylabel('True Positive Rate')\n",
    "plt.title('Receiver Operating Characteristic (ROC) Curve')\n",
    "plt.savefig('roc1.png')\n",
    "plt.show()"
   ]
  },
  {
   "cell_type": "code",
   "execution_count": null,
   "id": "a58f17c9",
   "metadata": {},
   "outputs": [],
   "source": [
    "train_probs = gb.predict_proba(X_train)[:,1] \n",
    "probs = gb.predict_proba(X_test)[:, 1]\n",
    "print(f'Train ROC AUC Score: {roc_auc_score(y_train, train_probs)}')\n",
    "print(f'Test ROC AUC  Score: {roc_auc_score(y_test, probs)}')"
   ]
  },
  {
   "cell_type": "markdown",
   "id": "c64f27b0",
   "metadata": {},
   "source": [
    "#### Trying Different Parameters on Gradient Boosting"
   ]
  },
  {
   "cell_type": "code",
   "execution_count": null,
   "id": "dfdbe5a0",
   "metadata": {},
   "outputs": [],
   "source": [
    "original_params = {\n",
    "    \"n_estimators\": 400,\n",
    "    \"max_leaf_nodes\": 4,\n",
    "    \"max_depth\": None,\n",
    "    \"random_state\": 2,\n",
    "    \"min_samples_split\": 5,\n",
    "}\n",
    "\n",
    "plt.figure()\n",
    "\n",
    "for label, color, setting in [\n",
    "    (\"No shrinkage\", \"orange\", {\"learning_rate\": 1.0, \"subsample\": 1.0}),\n",
    "    (\"learning_rate=0.2\", \"turquoise\", {\"learning_rate\": 0.2, \"subsample\": 1.0}),\n",
    "    (\"subsample=0.5\", \"blue\", {\"learning_rate\": 1.0, \"subsample\": 0.5}),\n",
    "    (\n",
    "        \"learning_rate=0.2, subsample=0.5\",\n",
    "        \"gray\",\n",
    "        {\"learning_rate\": 0.2, \"subsample\": 0.5},\n",
    "    ),\n",
    "    (\n",
    "        \"learning_rate=0.2, max_features=4\",\n",
    "        \"magenta\",\n",
    "        {\"learning_rate\": 0.2, \"max_features\": 4},\n",
    "    ),\n",
    "]:\n",
    "    params = dict(original_params)\n",
    "    params.update(setting)\n",
    "\n",
    "    clf = GradientBoostingClassifier(**params)\n",
    "    clf.fit(X_train, y_train)\n",
    "\n",
    "    # compute test set deviance\n",
    "    test_deviance = np.zeros((params[\"n_estimators\"],), dtype=np.float64)\n",
    "\n",
    "    for i, y_pred in enumerate(clf.staged_decision_function(X_test)):\n",
    "        # clf.loss_ assumes that y_test[i] in {0, 1}\n",
    "        test_deviance[i] = clf.loss_(y_test, y_pred)\n",
    "\n",
    "    plt.plot(\n",
    "        (np.arange(test_deviance.shape[0]) + 1)[::5],\n",
    "        test_deviance[::5],\n",
    "        \"-\",\n",
    "        color=color,\n",
    "        label=label,\n",
    "    )\n",
    "\n",
    "plt.legend(loc=\"upper left\")\n",
    "plt.xlabel(\"Boosting Iterations\")\n",
    "plt.ylabel(\"Test Set Deviance\")\n",
    "\n",
    "plt.show()"
   ]
  },
  {
   "cell_type": "code",
   "execution_count": null,
   "id": "7dfa726c",
   "metadata": {},
   "outputs": [],
   "source": [
    "probs.shape"
   ]
  },
  {
   "cell_type": "markdown",
   "id": "474821d5",
   "metadata": {},
   "source": [
    "#### Feature Importance According to Gradient Boosting"
   ]
  },
  {
   "cell_type": "code",
   "execution_count": null,
   "id": "e78aa4cb",
   "metadata": {},
   "outputs": [],
   "source": [
    "feature_imp = pd.Series(gb.feature_importances_,index=X.columns).sort_values(ascending=False).reset_index()\n",
    "feature_imp = pd.DataFrame(feature_imp)\n",
    "feature_imp.columns =  ['Feature','Importance']\n",
    "feature_imp.head(10)"
   ]
  },
  {
   "cell_type": "code",
   "execution_count": null,
   "id": "087734c4",
   "metadata": {},
   "outputs": [],
   "source": [
    "feature_imp.sort_values(by='Importance', ascending=False)\n",
    "fig, ax = plt.subplots()\n",
    "ax.invert_yaxis()\n",
    "ax.barh(feature_imp['Feature'][:9], (feature_imp['Importance'][:9]))\n",
    "ax.set_title(\"Gradient Boosting Feature Importances (MDI)\")\n",
    "plt.tight_layout()\n",
    "plt.savefig('gbimportances.png')\n",
    "plt.show()"
   ]
  },
  {
   "cell_type": "markdown",
   "id": "3d3e87e1",
   "metadata": {},
   "source": [
    "#### Gradient Boosting on Full Data Set"
   ]
  },
  {
   "cell_type": "code",
   "execution_count": null,
   "id": "23de805a",
   "metadata": {},
   "outputs": [],
   "source": [
    "X = pd.get_dummies(mis_data.drop(['Account ID',\n",
    "       'Opportunity Name', 'Opportunity ID',\n",
    "       'Actual Invoice Date', 'SuccessfulSale',\n",
    "       'Amount Currency', 'Close Date', 'Amount',\n",
    "       'Stage', 'Created Date',\n",
    "       'Resource Record ID', 'Owner Role', 'Last Invoice Date', 'Total_Opptys',\n",
    "       'Total_Billed', 'AE_Opptys', 'AE_Billed', 'age_bin', 'perc_bill_bin', 'perc_AE_bill_bin'], axis=1),drop_first=True)\n",
    "y = mis_data['SuccessfulSale']\n",
    "\n",
    "\n",
    "X_train, X_test, y_train, y_test = train_test_split(X, y, test_size = 0.30, random_state = 123)"
   ]
  },
  {
   "cell_type": "code",
   "execution_count": null,
   "id": "5d344e70",
   "metadata": {},
   "outputs": [],
   "source": [
    "gb = GradientBoostingClassifier(n_estimators=200)\n",
    "gb_probas = gb.fit(X_train, y_train).predict_proba(X_test)\n",
    "y_pred = gb.fit(X_train, y_train).predict(X_test)"
   ]
  },
  {
   "cell_type": "code",
   "execution_count": null,
   "id": "e5a0e206",
   "metadata": {},
   "outputs": [],
   "source": [
    "y_pred_proba = gb.predict_proba(X_test)[::,1]\n",
    "fpr, tpr, _ = metrics.roc_curve(y_test, y_pred_proba)\n",
    "auc = metrics.roc_auc_score(y_test, y_pred_proba)\n",
    "plt.plot(fpr,tpr,label=\"data 1, auc=\"+str(auc))\n",
    "plt.legend(loc=4)\n",
    "plt.xlabel('False Positive Rate')\n",
    "plt.ylabel('True Positive Rate')\n",
    "plt.title('Receiver Operating Characteristic (ROC) Curve')\n",
    "plt.savefig('roc.png')\n",
    "plt.show()"
   ]
  },
  {
   "cell_type": "code",
   "execution_count": null,
   "id": "0f0590ba",
   "metadata": {},
   "outputs": [],
   "source": [
    "train_probs = gb.predict_proba(X_train)[:,1] \n",
    "probs = gb.predict_proba(X_test)[:, 1]\n",
    "print(f'Train ROC AUC Score: {roc_auc_score(y_train, train_probs)}')\n",
    "print(f'Test ROC AUC  Score: {roc_auc_score(y_test, probs)}')"
   ]
  },
  {
   "cell_type": "code",
   "execution_count": null,
   "id": "e11bfa12",
   "metadata": {},
   "outputs": [],
   "source": [
    "pred_forecast = gb.predict(X)\n",
    "pred_forecast_value = pd.concat((pd.DataFrame(pred_forecast,columns=['Class']), mis_data['Amount'], mis_data['Close Date'], mis_data['SuccessfulSale']), axis=1)\n",
    "pred_forecast_value_summary = pred_forecast_value.groupby([pred_forecast_value['Class'],pred_forecast_value['Close Date'].dt.year.rename('year')])['Amount'].sum() \n",
    "pred_forecast_value_summary = pd.DataFrame(pred_forecast_value_summary, columns=(['Amount']))\n",
    "pred_forecast_value_summary['Amount'] = pred_forecast_value_summary['Amount'].apply(lambda x: \"${:.1f}m\".format((x/1000000)))\n",
    "pred_forecast_amounts = pred_forecast_value_summary.style.set_table_styles([{'style': 'display_inline', 'selector' : '',\n",
    "                            'props' : [('border',\n",
    "                                        '10px solid gray')]}])\n",
    "pred_forecast_amounts"
   ]
  },
  {
   "cell_type": "markdown",
   "id": "41a0076c",
   "metadata": {},
   "source": [
    "#### Evaluate Original Amount Against Predicted Amount Using Model Assigned Outcome"
   ]
  },
  {
   "cell_type": "code",
   "execution_count": null,
   "id": "53970577",
   "metadata": {},
   "outputs": [],
   "source": [
    "pred_forecast_value['$ Forecast'] = pred_forecast_value['SuccessfulSale'] * pred_forecast_value['Amount']\n",
    "pred_forecast_value['$ Pred Forecast'] = pred_forecast_value['Class'] * pred_forecast_value['Amount']\n",
    "pred_forecast_value['Variance'] = pred_forecast_value['$ Forecast'] - pred_forecast_value['$ Pred Forecast']\n",
    "comparison = pred_forecast_value.groupby(pred_forecast_value['Close Date'].dt.year.rename('year'))[['$ Forecast','$ Pred Forecast', 'Variance']].sum() "
   ]
  },
  {
   "cell_type": "code",
   "execution_count": null,
   "id": "2611af07",
   "metadata": {},
   "outputs": [],
   "source": [
    "pred_forecast_value.head()\n"
   ]
  },
  {
   "cell_type": "code",
   "execution_count": null,
   "id": "e0ca33b4",
   "metadata": {},
   "outputs": [],
   "source": [
    "difference = comparison['$ Pred Forecast'].sum() - comparison['$ Forecast'].sum()\n",
    "print(difference)\n"
   ]
  },
  {
   "cell_type": "markdown",
   "id": "fd12716a",
   "metadata": {},
   "source": [
    "#### Evaluate Original Amount Against Predicted Amount Using Model Assigned Probabilities"
   ]
  },
  {
   "cell_type": "code",
   "execution_count": null,
   "id": "4ed47737",
   "metadata": {},
   "outputs": [],
   "source": [
    "pred_forecast = gb.predict_proba(X)[:, 1]\n",
    "pred_forecast_value = pd.concat((pd.DataFrame(pred_forecast,columns=['Prob']), mis_data['Amount'], mis_data['Close Date'], mis_data['SuccessfulSale']), axis=1)\n",
    "pred_forecast_value['Pred Forecast Amount'] = pred_forecast_value['Prob'] * pred_forecast_value['Amount']\n",
    "pred_forecast_value['Difference'] = (pred_forecast_value['Amount'] - pred_forecast_value['Pred Forecast Amount']) / 1000000\n",
    "pred_forecast_value['Above Threshold'] = pred_forecast_value['Prob'] > 0.75\n"
   ]
  },
  {
   "cell_type": "code",
   "execution_count": null,
   "id": "f49f8989",
   "metadata": {},
   "outputs": [],
   "source": [
    "pred_forecast_value[pred_forecast_value['SuccessfulSale'] == 1].mean()"
   ]
  },
  {
   "cell_type": "code",
   "execution_count": null,
   "id": "93c59b98",
   "metadata": {},
   "outputs": [],
   "source": [
    "pred_forecast_value.head(20)"
   ]
  },
  {
   "cell_type": "code",
   "execution_count": null,
   "id": "fcc520db",
   "metadata": {},
   "outputs": [],
   "source": [
    "pred_forecast_value_summary = pred_forecast_value[pred_forecast_value['Above Threshold'] == True].groupby(pred_forecast_value['Close Date'].dt.year.rename('year'))['Difference'].sum()\n",
    "pred_forecast_value_summary"
   ]
  },
  {
   "cell_type": "markdown",
   "id": "bbb55c44",
   "metadata": {},
   "source": [
    "#### Parameter Tuning: Learning Rates"
   ]
  },
  {
   "cell_type": "code",
   "execution_count": null,
   "id": "2cfc6df1",
   "metadata": {},
   "outputs": [],
   "source": [
    "learning_rates = [1, 0.5, 0.25, 0.1, 0.05, 0.01]\n",
    "train_results = []\n",
    "test_results = []\n",
    "for eta in learning_rates:\n",
    "   model = GradientBoostingClassifier(learning_rate=eta)\n",
    "   model.fit(X_train, y_train)\n",
    "   train_pred = model.predict(X_train)\n",
    "   false_positive_rate, true_positive_rate, thresholds = metrics.roc_curve(y_train, train_pred)\n",
    "   roc_auc = metrics.auc(false_positive_rate, true_positive_rate)\n",
    "   train_results.append(roc_auc)\n",
    "   y_pred = model.predict(X_test)\n",
    "   false_positive_rate, true_positive_rate, thresholds = metrics.roc_curve(y_test, y_pred)\n",
    "   roc_auc = metrics.auc(false_positive_rate, true_positive_rate)\n",
    "   test_results.append(roc_auc)\n",
    "from matplotlib.legend_handler import HandlerLine2D\n",
    "line1, = plt.plot(learning_rates, train_results, 'b', label=\"Train AUC\")\n",
    "line2, = plt.plot(learning_rates, test_results, 'r', label=\"Test AUC\")\n",
    "plt.legend(handler_map={line1: HandlerLine2D(numpoints=2)})\n",
    "plt.ylabel('AUC score')\n",
    "plt.xlabel('learning rate')\n",
    "plt.show()"
   ]
  },
  {
   "cell_type": "markdown",
   "id": "726ddba7",
   "metadata": {},
   "source": [
    "#### Paramter Tuning: Number of Trees"
   ]
  },
  {
   "cell_type": "code",
   "execution_count": null,
   "id": "9ae33a3f",
   "metadata": {},
   "outputs": [],
   "source": [
    "n_estimators = [1, 2, 4, 8, 16, 32, 64, 100, 200]\n",
    "train_results = []\n",
    "test_results = []\n",
    "for estimator in n_estimators:\n",
    "   model = GradientBoostingClassifier(n_estimators=estimator)\n",
    "   model.fit(X_train, y_train)\n",
    "   train_pred = model.predict(X_train)\n",
    "   false_positive_rate, true_positive_rate, thresholds = metrics.roc_curve(y_train, train_pred)\n",
    "   roc_auc = metrics.auc(false_positive_rate, true_positive_rate)\n",
    "   train_results.append(roc_auc)\n",
    "   y_pred = model.predict(X_test)\n",
    "   false_positive_rate, true_positive_rate, thresholds = metrics.roc_curve(y_test, y_pred)\n",
    "   roc_auc = metrics.auc(false_positive_rate, true_positive_rate)\n",
    "   test_results.append(roc_auc)\n",
    "from matplotlib.legend_handler import HandlerLine2D\n",
    "line1, = plt.plot(n_estimators, train_results, 'b', label='Train AUC')\n",
    "line2, = plt.plot(n_estimators, test_results, 'r', label='Test AUC')\n",
    "plt.legend(handler_map={line1: HandlerLine2D(numpoints=2)})\n",
    "plt.ylabel('AUC score')\n",
    "plt.xlabel('n_estimators')\n",
    "plt.show()"
   ]
  },
  {
   "cell_type": "markdown",
   "id": "48c51db7",
   "metadata": {},
   "source": [
    "#### Parameter Tuning: Tree Depth"
   ]
  },
  {
   "cell_type": "code",
   "execution_count": null,
   "id": "db9890a8",
   "metadata": {},
   "outputs": [],
   "source": [
    "max_depths = np.linspace(1, 10, 10, endpoint=True)\n",
    "train_results = []\n",
    "test_results = []\n",
    "for max_depth in max_depths:\n",
    "   model = GradientBoostingClassifier(max_depth=max_depth)\n",
    "   model.fit(X_train, y_train)\n",
    "   train_pred = model.predict(X_train)\n",
    "   false_positive_rate, true_positive_rate, thresholds = metrics.roc_curve(y_train, train_pred)\n",
    "   roc_auc = metrics.auc(false_positive_rate, true_positive_rate)\n",
    "   train_results.append(roc_auc)\n",
    "   y_pred = model.predict(X_test)\n",
    "   false_positive_rate, true_positive_rate, thresholds = metrics.roc_curve(y_test, y_pred)\n",
    "   roc_auc = metrics.auc(false_positive_rate, true_positive_rate)\n",
    "   test_results.append(roc_auc)\n",
    "\n",
    "line1, = plt.plot(max_depths, train_results, 'b', label='Train AUC')\n",
    "line2, = plt.plot(max_depths, test_results, 'r', label='Test AUC')\n",
    "plt.legend(handler_map={line1: HandlerLine2D(numpoints=2)})\n",
    "plt.ylabel('AUC score')\n",
    "plt.xlabel('Tree depth')\n",
    "plt.show()"
   ]
  },
  {
   "cell_type": "markdown",
   "id": "939c35ca",
   "metadata": {},
   "source": [
    "#### Parameter Tuning: Minimum Sample Splits"
   ]
  },
  {
   "cell_type": "code",
   "execution_count": null,
   "id": "44ff31e8",
   "metadata": {},
   "outputs": [],
   "source": [
    "min_samples_splits = np.linspace(0.1, 1.0, 10, endpoint=True)\n",
    "train_results = []\n",
    "test_results = []\n",
    "for min_samples_split in min_samples_splits:\n",
    "   model = GradientBoostingClassifier(min_samples_split=min_samples_split)\n",
    "   model.fit(X_train, y_train)\n",
    "   train_pred = model.predict(X_train)\n",
    "   false_positive_rate, true_positive_rate, thresholds = metrics.roc_curve(y_train, train_pred)\n",
    "   roc_auc = metrics.auc(false_positive_rate, true_positive_rate)\n",
    "   train_results.append(roc_auc)\n",
    "   y_pred = model.predict(X_test)\n",
    "   false_positive_rate, true_positive_rate, thresholds = metrics.roc_curve(y_test, y_pred)\n",
    "   roc_auc = metrics.auc(false_positive_rate, true_positive_rate)\n",
    "   test_results.append(roc_auc)\n",
    "from matplotlib.legend_handler import HandlerLine2D\n",
    "line1, = plt.plot(min_samples_splits, train_results, 'b', label='Train AUC')\n",
    "line2, = plt.plot(min_samples_splits, test_results, 'r', label='Test AUC')\n",
    "plt.legend(handler_map={line1: HandlerLine2D(numpoints=2)})\n",
    "plt.ylabel('AUC score')\n",
    "plt.xlabel('min samples split')\n",
    "plt.show()"
   ]
  },
  {
   "cell_type": "markdown",
   "id": "47cc28e8",
   "metadata": {},
   "source": [
    "#### Parameter Tuning: Minimum Samples Leafs"
   ]
  },
  {
   "cell_type": "code",
   "execution_count": null,
   "id": "0ca7aaca",
   "metadata": {},
   "outputs": [],
   "source": [
    "min_samples_leafs = np.linspace(0.1, 0.5, 5, endpoint=True)\n",
    "train_results = []\n",
    "test_results = []\n",
    "for min_samples_leaf in min_samples_leafs:\n",
    "   model = GradientBoostingClassifier(min_samples_leaf=min_samples_leaf)\n",
    "   model.fit(X_train, y_train)\n",
    "   train_pred = model.predict(X_train)\n",
    "   false_positive_rate, true_positive_rate, thresholds = metrics.roc_curve(y_train, train_pred)\n",
    "   roc_auc = metrics.auc(false_positive_rate, true_positive_rate)\n",
    "   train_results.append(roc_auc)\n",
    "   y_pred = model.predict(X_test)\n",
    "   false_positive_rate, true_positive_rate, thresholds = metrics.roc_curve(y_test, y_pred)\n",
    "   roc_auc = metrics.auc(false_positive_rate, true_positive_rate)\n",
    "   test_results.append(roc_auc)\n",
    "from matplotlib.legend_handler import HandlerLine2D\n",
    "line1, = plt.plot(min_samples_leafs, train_results, 'b', label='Train AUC')\n",
    "line2, = plt.plot(min_samples_leafs, test_results, 'r', label='Test AUC')\n",
    "plt.legend(handler_map={line1: HandlerLine2D(numpoints=2)})\n",
    "plt.ylabel('AUC score')\n",
    "plt.xlabel('min samples leaf')\n",
    "plt.show()"
   ]
  },
  {
   "cell_type": "markdown",
   "id": "f10c8c0d",
   "metadata": {},
   "source": [
    "#### Gradient Boosting With Best Parameters"
   ]
  },
  {
   "cell_type": "code",
   "execution_count": null,
   "id": "e0e97333",
   "metadata": {},
   "outputs": [],
   "source": [
    "gb = GradientBoostingClassifier(n_estimators=1500, learning_rate=0.005, max_depth=7)\n",
    "gb_probas = gb.fit(X_train, y_train).predict_proba(X_test)\n",
    "y_pred = gb.fit(X_train, y_train).predict(X_test)"
   ]
  },
  {
   "cell_type": "code",
   "execution_count": null,
   "id": "9756fb1b",
   "metadata": {},
   "outputs": [],
   "source": [
    "y_pred_proba = gb.predict_proba(X_test)[::,1]\n",
    "fpr, tpr, _ = metrics.roc_curve(y_test, y_pred_proba)\n",
    "auc = metrics.roc_auc_score(y_test, y_pred_proba)\n",
    "plt.plot(fpr,tpr,label=\"data 1, auc=\"+str(auc))\n",
    "plt.legend(loc=4)\n",
    "plt.xlabel('False Positive Rate')\n",
    "plt.ylabel('True Positive Rate')\n",
    "plt.title('Receiver Operating Characteristic (ROC) Curve')\n",
    "plt.savefig('roc.png')\n",
    "plt.show()"
   ]
  },
  {
   "cell_type": "code",
   "execution_count": null,
   "id": "ac43c5f4",
   "metadata": {},
   "outputs": [],
   "source": [
    "train_probs = gb.predict_proba(X_train)[:,1] \n",
    "probs = gb.predict_proba(X_test)[:, 1]\n",
    "print(f'Train ROC AUC Score: {roc_auc_score(y_train, train_probs)}')\n",
    "print(f'Test ROC AUC  Score: {roc_auc_score(y_test, probs)}')"
   ]
  },
  {
   "cell_type": "code",
   "execution_count": null,
   "id": "f8c98ecd",
   "metadata": {},
   "outputs": [],
   "source": [
    "predicted = (y_pred_proba >= 0.50).astype('int')\n",
    "pd.crosstab(y_test, predicted)"
   ]
  },
  {
   "cell_type": "markdown",
   "id": "77d1526a",
   "metadata": {},
   "source": [
    "#### Apply Tuned Gradient Boosting Classifier to Full Data Set"
   ]
  },
  {
   "cell_type": "code",
   "execution_count": null,
   "id": "905e2154",
   "metadata": {},
   "outputs": [],
   "source": [
    "pred_forecast = gb.predict_proba(X)[:,1]"
   ]
  },
  {
   "cell_type": "code",
   "execution_count": null,
   "id": "6d9fa1d8",
   "metadata": {},
   "outputs": [],
   "source": [
    "y = mis_data['SuccessfulSale']"
   ]
  },
  {
   "cell_type": "code",
   "execution_count": null,
   "id": "1d7ccd9d",
   "metadata": {},
   "outputs": [],
   "source": [
    "y_with_proba = np.column_stack((y, pred_forecast))"
   ]
  },
  {
   "cell_type": "code",
   "execution_count": null,
   "id": "7d5b383e",
   "metadata": {},
   "outputs": [],
   "source": [
    "y_with_proba = pd.DataFrame(y_with_proba, columns=('SuccessfulSale','Proba'))"
   ]
  },
  {
   "cell_type": "code",
   "execution_count": null,
   "id": "3c3c394a",
   "metadata": {},
   "outputs": [],
   "source": [
    "y_with_proba.head()"
   ]
  },
  {
   "cell_type": "code",
   "execution_count": null,
   "id": "5de0a33e",
   "metadata": {},
   "outputs": [],
   "source": [
    "mis_data_concat_with_proba = pd.concat([mis_data, y_with_proba['Proba']], axis=1)"
   ]
  },
  {
   "cell_type": "code",
   "execution_count": null,
   "id": "0a7ee102",
   "metadata": {},
   "outputs": [],
   "source": [
    "mis_data_concat_with_proba.to_csv('mis_data_concat_with_proba.csv')"
   ]
  },
  {
   "cell_type": "code",
   "execution_count": null,
   "id": "c38c9234",
   "metadata": {},
   "outputs": [],
   "source": [
    "len(y_with_proba)"
   ]
  },
  {
   "cell_type": "code",
   "execution_count": null,
   "id": "c23e7cde",
   "metadata": {},
   "outputs": [],
   "source": [
    "mis_data_concat_with_proba.columns"
   ]
  },
  {
   "cell_type": "code",
   "execution_count": null,
   "id": "5e9d2c4d",
   "metadata": {},
   "outputs": [],
   "source": [
    "accuracy_score(y, (pred_forecast>=0.5).astype('int'))"
   ]
  },
  {
   "cell_type": "code",
   "execution_count": null,
   "id": "493322a2",
   "metadata": {},
   "outputs": [],
   "source": [
    "print(f'Full Data ROC AUC Score: {roc_auc_score(y, pred_forecast)}')"
   ]
  },
  {
   "cell_type": "markdown",
   "id": "021dc8a2",
   "metadata": {},
   "source": [
    "#### MIS Predicted Revenue Two Ways: Using Boolean Assignment and Using Probabilities - REDACTED"
   ]
  },
  {
   "cell_type": "code",
   "execution_count": null,
   "id": "3a4a597e",
   "metadata": {},
   "outputs": [],
   "source": [
    "mis_data_concat_with_proba_cleaned['Close Date'] = pd.to_datetime(mis_data_concat_with_proba_cleaned['Close Date'], format = '%m/%d/%Y', errors = 'coerce')"
   ]
  },
  {
   "cell_type": "code",
   "execution_count": null,
   "id": "33237ad4",
   "metadata": {},
   "outputs": [],
   "source": [
    "pd.set_option('display.float_format', lambda x: '%.1f' % x)\n",
    "mis_data_concat_with_proba_cleaned.groupby(mis_data_concat_with_proba_cleaned['Close Date'].dt.year.rename('year'))[['Predicted Amount', 'Predict Amount Prob']].sum()"
   ]
  },
  {
   "cell_type": "markdown",
   "id": "8e6d8a40",
   "metadata": {},
   "source": [
    "#### MIS Data Actual Revenue by Year"
   ]
  },
  {
   "cell_type": "code",
   "execution_count": null,
   "id": "2487004f",
   "metadata": {},
   "outputs": [],
   "source": [
    "mis_data_actual_rev = mis_data_concat_with_proba[mis_data_concat_with_proba['SuccessfulSale'] == 1]"
   ]
  },
  {
   "cell_type": "code",
   "execution_count": null,
   "id": "e6d170d3",
   "metadata": {},
   "outputs": [],
   "source": [
    "pd.set_option('display.float_format', lambda x: '%.1f' % x)\n",
    "mis_data_actual_rev.groupby(mis_data_actual_rev['Close Date'].dt.year.rename('year'))['Amount'].sum()"
   ]
  },
  {
   "cell_type": "code",
   "execution_count": null,
   "id": "d7a8ebf9",
   "metadata": {},
   "outputs": [],
   "source": []
  },
  {
   "cell_type": "code",
   "execution_count": null,
   "id": "52f43bc7",
   "metadata": {},
   "outputs": [],
   "source": []
  },
  {
   "cell_type": "code",
   "execution_count": null,
   "id": "143a9dcc",
   "metadata": {},
   "outputs": [],
   "source": []
  }
 ],
 "metadata": {
  "kernelspec": {
   "display_name": "Python 3",
   "language": "python",
   "name": "python3"
  },
  "language_info": {
   "codemirror_mode": {
    "name": "ipython",
    "version": 3
   },
   "file_extension": ".py",
   "mimetype": "text/x-python",
   "name": "python",
   "nbconvert_exporter": "python",
   "pygments_lexer": "ipython3",
   "version": "3.8.8"
  }
 },
 "nbformat": 4,
 "nbformat_minor": 5
}
