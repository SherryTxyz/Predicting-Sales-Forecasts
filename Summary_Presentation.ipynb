{
 "cells": [
  {
   "cell_type": "markdown",
   "id": "b95b01d0",
   "metadata": {},
   "source": [
    "## Predicting Sales Forecasts Presentation"
   ]
  },
  {
   "cell_type": "markdown",
   "id": "440741a9",
   "metadata": {},
   "source": [
    "### Click on image to run video..."
   ]
  },
  {
   "cell_type": "markdown",
   "id": "0ea8b20b",
   "metadata": {},
   "source": [
    "# [![SALES FORECASTING](https://img.youtube.com/vi/ymVBw_ea0u8/0.jpg)](https://www.youtube.com/watch?v=ymVBw_ea0u8)"
   ]
  }
 ],
 "metadata": {
  "celltoolbar": "Raw Cell Format",
  "kernelspec": {
   "display_name": "Python 3",
   "language": "python",
   "name": "python3"
  },
  "language_info": {
   "codemirror_mode": {
    "name": "ipython",
    "version": 3
   },
   "file_extension": ".py",
   "mimetype": "text/x-python",
   "name": "python",
   "nbconvert_exporter": "python",
   "pygments_lexer": "ipython3",
   "version": "3.8.8"
  }
 },
 "nbformat": 4,
 "nbformat_minor": 5
}
