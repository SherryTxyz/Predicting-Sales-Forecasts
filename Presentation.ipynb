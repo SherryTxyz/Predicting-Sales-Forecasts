{
 "cells": [
  {
   "cell_type": "markdown",
   "id": "81ff00bb",
   "metadata": {},
   "source": [
    "## Predicting Sales Forecasts Presentation"
   ]
  },
  {
   "cell_type": "markdown",
   "id": "7af908c8",
   "metadata": {},
   "source": [
    "#### Click on image to run video..."
   ]
  },
  {
   "cell_type": "markdown",
   "id": "6235bb86",
   "metadata": {},
   "source": [
    "# [![SALES FORECASTING](https://img.youtube.com/vi/GxTNxt9bO7Q/1.jpg)](https://www.youtube.com/watch?v=GxTNxt9bO7Q)"
   ]
  }
 ],
 "metadata": {
  "celltoolbar": "Raw Cell Format",
  "kernelspec": {
   "display_name": "Python 3",
   "language": "python",
   "name": "python3"
  },
  "language_info": {
   "codemirror_mode": {
    "name": "ipython",
    "version": 3
   },
   "file_extension": ".py",
   "mimetype": "text/x-python",
   "name": "python",
   "nbconvert_exporter": "python",
   "pygments_lexer": "ipython3",
   "version": "3.8.8"
  }
 },
 "nbformat": 4,
 "nbformat_minor": 5
}
